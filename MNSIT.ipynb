{
 "cells": [
  {
   "cell_type": "code",
   "execution_count": null,
   "metadata": {},
   "outputs": [],
   "source": [
    "import tensorflow as tf\n",
    "import numpy as np\n",
    "from tensorflow.examples.tutorials.mnist import input_data\n",
    "import matplotlib.pyplot as plt"
   ]
  },
  {
   "cell_type": "code",
   "execution_count": null,
   "metadata": {},
   "outputs": [],
   "source": [
    "mnist = input_data.read_data_sets('MNIST_data', one_hot = True)"
   ]
  },
  {
   "cell_type": "code",
   "execution_count": null,
   "metadata": {},
   "outputs": [],
   "source": [
    "print(mnist.train.labels[0].shape, mnist.train.images[0].shape)\n",
    "print(mnist.train.images.shape, mnist.test.images.shape)\n",
    "x = tf.placeholder(tf.float32, [None, 784])\n",
    "y = tf.placeholder(tf.float32,[None, 10])\n",
    "x_shape = tf.reshape(x,[-1,28,28,1])\n",
    "\n",
    "\n"
   ]
  },
  {
   "cell_type": "code",
   "execution_count": null,
   "metadata": {},
   "outputs": [],
   "source": [
    "def newconl (input_data, input_channels, filters, filtershape, pool_shape):\n",
    "    confilshape = [filtershape[0], filtershape[1], input_channels, filters]\n",
    "    w = tf.Variable(tf.truncated_normal(confilshape, stddev= 0.03))\n",
    "    b = tf.Variable(tf.truncated_normal([filters]))\n",
    "    op = tf.nn.conv2d(input_data, w,[1,1,1,1], padding='SAME')\n",
    "    op+=b\n",
    "    op+= tf.nn.relu(op)\n",
    "    psize = [1, pool_shape[0],pool_shape[1],1]\n",
    "    s=[1,2,2,1]\n",
    "    \n",
    "    op = tf.nn.max_pool(op,ksize = psize, strides = s, padding='SAME')\n",
    "    return op    \n",
    "    \n",
    "    \n",
    "    \n",
    "    "
   ]
  },
  {
   "cell_type": "code",
   "execution_count": null,
   "metadata": {},
   "outputs": [],
   "source": [
    "#print(x_shape.shape)\n",
    "l1 = newconl(x_shape,1,32,[5,5],[2,2])\n",
    "l2 = newconl(l1,32,64,[5,5],[2,2])\n",
    "tf.shape(l2)"
   ]
  },
  {
   "cell_type": "code",
   "execution_count": null,
   "metadata": {},
   "outputs": [],
   "source": [
    "f = tf.reshape(l2,[-1,7*7*64])\n",
    "w1 = tf.Variable(tf.truncated_normal([7*7*64,1000], stddev=0.03))\n",
    "b1 = tf.Variable(tf.truncated_normal([1000], stddev=0.01))\n",
    "d1 = tf.matmul(f,w1)+b1\n",
    "d1 = tf.nn.relu(d1)\n",
    "d1.shape\n",
    "\n",
    "\n"
   ]
  },
  {
   "cell_type": "code",
   "execution_count": null,
   "metadata": {},
   "outputs": [],
   "source": [
    "w2 = tf.Variable(tf.truncated_normal([1000,10], stddev=0.03))\n",
    "b2 = tf.Variable(tf.truncated_normal([10], stddev=0.01))\n",
    "d2=  tf.matmul(d1,w2)+b2\n",
    "y_ = tf.nn.softmax(d2)"
   ]
  },
  {
   "cell_type": "code",
   "execution_count": null,
   "metadata": {},
   "outputs": [],
   "source": [
    "loss = tf.nn.softmax_cross_entropy_with_logits(logits=d2,labels=y)\n",
    "mean = tf.reduce_mean(loss)"
   ]
  },
  {
   "cell_type": "code",
   "execution_count": null,
   "metadata": {},
   "outputs": [],
   "source": [
    "optimizer = tf.train.AdamOptimizer(learning_rate = 0.00001).minimize(mean)"
   ]
  },
  {
   "cell_type": "code",
   "execution_count": null,
   "metadata": {},
   "outputs": [],
   "source": [
    "cpred = tf.equal(tf.argmax(y,1), tf.argmax(y_,1))\n",
    "cpred = tf.cast(cpred,tf.float32)\n",
    "acc  = tf.reduce_mean(cpred)"
   ]
  },
  {
   "cell_type": "code",
   "execution_count": null,
   "metadata": {},
   "outputs": [],
   "source": [
    "sess = tf.Session()"
   ]
  },
  {
   "cell_type": "code",
   "execution_count": null,
   "metadata": {},
   "outputs": [],
   "source": [
    "b = int(len(mnist.train.labels)/50)\n",
    "b"
   ]
  },
  {
   "cell_type": "code",
   "execution_count": null,
   "metadata": {},
   "outputs": [],
   "source": [
    "time = 10\n",
    "intial = tf.global_variables_initializer()\n",
    "sess.run(intial)\n",
    "\n",
    "\n",
    "for i in range(time):\n",
    "    print(i+1)\n",
    "    cost =0\n",
    "    for j in range(b):\n",
    "        X, Y = mnist.train.next_batch(batch_size=50)\n",
    "        _, c = sess.run([optimizer,loss],feed_dict={x:X,y:Y})\n",
    "        cost += (c/b)\n",
    "        \n",
    "    accg = sess.run(acc , feed_dict={x:mnist.train.images, y:mnist.train.labels})\n",
    "    print(\"cost=\",cost, \"accuracy=\",accg)\n",
    "    \n",
    "    "
   ]
  },
  {
   "cell_type": "code",
   "execution_count": null,
   "metadata": {},
   "outputs": [],
   "source": []
  }
 ],
 "metadata": {
  "kernelspec": {
   "display_name": "Python 3",
   "language": "python",
   "name": "python3"
  },
  "language_info": {
   "codemirror_mode": {
    "name": "ipython",
    "version": 3
   },
   "file_extension": ".py",
   "mimetype": "text/x-python",
   "name": "python",
   "nbconvert_exporter": "python",
   "pygments_lexer": "ipython3",
   "version": "3.7.1"
  }
 },
 "nbformat": 4,
 "nbformat_minor": 2
}
